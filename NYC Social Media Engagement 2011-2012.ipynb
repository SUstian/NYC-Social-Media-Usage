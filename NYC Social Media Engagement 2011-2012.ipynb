{
 "cells": [
  {
   "cell_type": "markdown",
   "metadata": {},
   "source": [
    "# NYC Agencies - Social Media Engagement, 2011-2012"
   ]
  },
  {
   "cell_type": "markdown",
   "metadata": {},
   "source": [
    "This dataset includes social media statistics - including likes, follows, visits, and app downloads - from various NYC agencies and organizations. The analysis utilizes Pandas and SQL to determine which platforms (i.e. social media, app downloads, video, etc.) have the most and least engagement.\n",
    "\n",
    "When downloaded several months ago, the dataset was freely available at: _[NYC Social Media Usage](https://www.google.com/url?sa=t&rct=j&q=&esrc=s&source=web&cd=10&cad=rja&uact=8&ved=2ahUKEwj0gZTVn-ThAhXMneAKHSi-DcgQFjAJegQIARAB&url=https%3A%2F%2Fdata.ny.gov%2FRecreation%2FNYC-Social-Media-Usage%2F5b3a-rs48%2Fdata&usg=AOvVaw3M8x-Fibiy1f5omS-tGzF6)_. However, the dataset now appears to have been removed."
   ]
  },
  {
   "cell_type": "code",
   "execution_count": 41,
   "metadata": {
    "collapsed": true
   },
   "outputs": [],
   "source": [
    "import pandas as pd\n",
    "from matplotlib import pyplot as plt\n",
    "import sqlite3\n",
    "import seaborn as sns\n",
    "%matplotlib inline"
   ]
  },
  {
   "cell_type": "markdown",
   "metadata": {},
   "source": [
    "First, we need to import the data into a dataframe.  Additionally, a couple of the column names need to be renamed in order to make them easier to reference in our queries."
   ]
  },
  {
   "cell_type": "code",
   "execution_count": 42,
   "metadata": {
    "collapsed": false
   },
   "outputs": [],
   "source": [
    "df = pd.read_csv('/Users/alexustian/stacey_learning/NYC_Social_Media_Usage.csv')"
   ]
  },
  {
   "cell_type": "code",
   "execution_count": 43,
   "metadata": {
    "collapsed": false
   },
   "outputs": [],
   "source": [
    "df.rename(columns={'Likes/Followers/Visits/Downloads': 'Interactions', 'Date Sampled': 'Date_Sampled'}, inplace=True)"
   ]
  },
  {
   "cell_type": "markdown",
   "metadata": {},
   "source": [
    "Now let's examine the first few rows of the data to ensure that the columns were correctly renamed. We can also review the data types to see if any need to be converted."
   ]
  },
  {
   "cell_type": "code",
   "execution_count": 44,
   "metadata": {
    "collapsed": false
   },
   "outputs": [
    {
     "name": "stdout",
     "output_type": "stream",
     "text": [
      "  Agency    Platform                           Url            Date_Sampled  \\\n",
      "0    OEM         SMS                           NaN  02/17/2012 12:00:00 AM   \n",
      "1    OEM         SMS                           NaN  11/09/2012 12:00:00 AM   \n",
      "2    EDC      Flickr  http://www.flickr.com/nycedc  05/09/2012 12:00:00 AM   \n",
      "3  NYCHA  Newsletter                           NaN  05/09/2012 12:00:00 AM   \n",
      "4    DHS     Twitter        www.twitter.com/nycdhs  06/13/2012 12:00:00 AM   \n",
      "\n",
      "   Interactions  \n",
      "0         61652  \n",
      "1         44547  \n",
      "2           NaN  \n",
      "3           NaN  \n",
      "4           389  \n"
     ]
    },
    {
     "data": {
      "text/plain": [
       "Agency           object\n",
       "Platform         object\n",
       "Url              object\n",
       "Date_Sampled     object\n",
       "Interactions    float64\n",
       "dtype: object"
      ]
     },
     "execution_count": 44,
     "metadata": {},
     "output_type": "execute_result"
    }
   ],
   "source": [
    "print(df.head())\n",
    "df.dtypes"
   ]
  },
  {
   "cell_type": "markdown",
   "metadata": {},
   "source": [
    "If we want to do anything with the Date_Sampled column, we'll need to have it in datetime format, so we can make that change.  Also, because this analysis is focused on user interactions, the rows with empty values in that column will not be used, and can be dropped."
   ]
  },
  {
   "cell_type": "code",
   "execution_count": 45,
   "metadata": {
    "collapsed": false
   },
   "outputs": [],
   "source": [
    "df['Date_Sampled'] =  pd.to_datetime(df['Date_Sampled'], infer_datetime_format=True)"
   ]
  },
  {
   "cell_type": "code",
   "execution_count": 46,
   "metadata": {
    "collapsed": true
   },
   "outputs": [],
   "source": [
    "df = df.dropna(subset=['Interactions'])"
   ]
  },
  {
   "cell_type": "markdown",
   "metadata": {},
   "source": [
    "Since we will be using SQL for this analysis, we also need to convert the dataframe to a SQL table."
   ]
  },
  {
   "cell_type": "code",
   "execution_count": 47,
   "metadata": {
    "collapsed": false
   },
   "outputs": [],
   "source": [
    "conn = sqlite3.connect(\"Any_Database_Name.db\")\n",
    "df.to_sql('usage', conn, if_exists='replace')"
   ]
  },
  {
   "cell_type": "markdown",
   "metadata": {},
   "source": [
    "Now we can check to make sure that the dataframe was successfully converted."
   ]
  },
  {
   "cell_type": "code",
   "execution_count": 48,
   "metadata": {
    "collapsed": false
   },
   "outputs": [
    {
     "data": {
      "text/html": [
       "<div>\n",
       "<table border=\"1\" class=\"dataframe\">\n",
       "  <thead>\n",
       "    <tr style=\"text-align: right;\">\n",
       "      <th></th>\n",
       "      <th>index</th>\n",
       "      <th>Agency</th>\n",
       "      <th>Platform</th>\n",
       "      <th>Url</th>\n",
       "      <th>Date_Sampled</th>\n",
       "      <th>Interactions</th>\n",
       "    </tr>\n",
       "  </thead>\n",
       "  <tbody>\n",
       "    <tr>\n",
       "      <th>0</th>\n",
       "      <td>0</td>\n",
       "      <td>OEM</td>\n",
       "      <td>SMS</td>\n",
       "      <td>None</td>\n",
       "      <td>2012-02-17 00:00:00</td>\n",
       "      <td>61652</td>\n",
       "    </tr>\n",
       "    <tr>\n",
       "      <th>1</th>\n",
       "      <td>1</td>\n",
       "      <td>OEM</td>\n",
       "      <td>SMS</td>\n",
       "      <td>None</td>\n",
       "      <td>2012-11-09 00:00:00</td>\n",
       "      <td>44547</td>\n",
       "    </tr>\n",
       "    <tr>\n",
       "      <th>2</th>\n",
       "      <td>4</td>\n",
       "      <td>DHS</td>\n",
       "      <td>Twitter</td>\n",
       "      <td>www.twitter.com/nycdhs</td>\n",
       "      <td>2012-06-13 00:00:00</td>\n",
       "      <td>389</td>\n",
       "    </tr>\n",
       "    <tr>\n",
       "      <th>3</th>\n",
       "      <td>5</td>\n",
       "      <td>DHS</td>\n",
       "      <td>Twitter</td>\n",
       "      <td>www.twitter.com/nycdhs</td>\n",
       "      <td>2012-08-02 00:00:00</td>\n",
       "      <td>431</td>\n",
       "    </tr>\n",
       "    <tr>\n",
       "      <th>4</th>\n",
       "      <td>6</td>\n",
       "      <td>DOH</td>\n",
       "      <td>Android</td>\n",
       "      <td>Condom Finder</td>\n",
       "      <td>2011-08-08 00:00:00</td>\n",
       "      <td>5026</td>\n",
       "    </tr>\n",
       "    <tr>\n",
       "      <th>5</th>\n",
       "      <td>8</td>\n",
       "      <td>MOME</td>\n",
       "      <td>Android</td>\n",
       "      <td>MiNY Venor app</td>\n",
       "      <td>2011-08-08 00:00:00</td>\n",
       "      <td>313</td>\n",
       "    </tr>\n",
       "    <tr>\n",
       "      <th>6</th>\n",
       "      <td>11</td>\n",
       "      <td>ENDHT</td>\n",
       "      <td>Facebook</td>\n",
       "      <td>http://www.facebook.com/pages/NYC-Lets-End-Hum...</td>\n",
       "      <td>2011-08-08 00:00:00</td>\n",
       "      <td>3</td>\n",
       "    </tr>\n",
       "    <tr>\n",
       "      <th>7</th>\n",
       "      <td>12</td>\n",
       "      <td>VAC</td>\n",
       "      <td>Facebook</td>\n",
       "      <td>https://www.facebook.com/pages/NYC-Voter-Assis...</td>\n",
       "      <td>2011-08-08 00:00:00</td>\n",
       "      <td>36</td>\n",
       "    </tr>\n",
       "    <tr>\n",
       "      <th>8</th>\n",
       "      <td>13</td>\n",
       "      <td>PlaNYC</td>\n",
       "      <td>Facebook</td>\n",
       "      <td>http://www.facebook.com/pages/New-York-NY/PlaN...</td>\n",
       "      <td>2011-08-08 00:00:00</td>\n",
       "      <td>47</td>\n",
       "    </tr>\n",
       "    <tr>\n",
       "      <th>9</th>\n",
       "      <td>14</td>\n",
       "      <td>DFTA</td>\n",
       "      <td>Facebook</td>\n",
       "      <td>http://www.facebook.com/pages/NYC-Department-f...</td>\n",
       "      <td>2011-08-08 00:00:00</td>\n",
       "      <td>90</td>\n",
       "    </tr>\n",
       "  </tbody>\n",
       "</table>\n",
       "</div>"
      ],
      "text/plain": [
       "   index  Agency  Platform                                                Url  \\\n",
       "0      0     OEM       SMS                                               None   \n",
       "1      1     OEM       SMS                                               None   \n",
       "2      4     DHS   Twitter                             www.twitter.com/nycdhs   \n",
       "3      5     DHS   Twitter                             www.twitter.com/nycdhs   \n",
       "4      6     DOH   Android                                      Condom Finder   \n",
       "5      8    MOME   Android                                     MiNY Venor app   \n",
       "6     11   ENDHT  Facebook  http://www.facebook.com/pages/NYC-Lets-End-Hum...   \n",
       "7     12     VAC  Facebook  https://www.facebook.com/pages/NYC-Voter-Assis...   \n",
       "8     13  PlaNYC  Facebook  http://www.facebook.com/pages/New-York-NY/PlaN...   \n",
       "9     14    DFTA  Facebook  http://www.facebook.com/pages/NYC-Department-f...   \n",
       "\n",
       "          Date_Sampled  Interactions  \n",
       "0  2012-02-17 00:00:00         61652  \n",
       "1  2012-11-09 00:00:00         44547  \n",
       "2  2012-06-13 00:00:00           389  \n",
       "3  2012-08-02 00:00:00           431  \n",
       "4  2011-08-08 00:00:00          5026  \n",
       "5  2011-08-08 00:00:00           313  \n",
       "6  2011-08-08 00:00:00             3  \n",
       "7  2011-08-08 00:00:00            36  \n",
       "8  2011-08-08 00:00:00            47  \n",
       "9  2011-08-08 00:00:00            90  "
      ]
     },
     "execution_count": 48,
     "metadata": {},
     "output_type": "execute_result"
    }
   ],
   "source": [
    "pd.read_sql('SELECT * FROM usage LIMIT 10', conn)"
   ]
  },
  {
   "cell_type": "markdown",
   "metadata": {},
   "source": [
    "Let's take a closer look at the distinct values in the 'Platform' column to make sure that there are no duplicates."
   ]
  },
  {
   "cell_type": "code",
   "execution_count": 49,
   "metadata": {
    "collapsed": false
   },
   "outputs": [
    {
     "data": {
      "text/html": [
       "<div>\n",
       "<table border=\"1\" class=\"dataframe\">\n",
       "  <thead>\n",
       "    <tr style=\"text-align: right;\">\n",
       "      <th></th>\n",
       "      <th>Platform</th>\n",
       "    </tr>\n",
       "  </thead>\n",
       "  <tbody>\n",
       "    <tr>\n",
       "      <th>0</th>\n",
       "      <td>SMS</td>\n",
       "    </tr>\n",
       "    <tr>\n",
       "      <th>1</th>\n",
       "      <td>Twitter</td>\n",
       "    </tr>\n",
       "    <tr>\n",
       "      <th>2</th>\n",
       "      <td>Android</td>\n",
       "    </tr>\n",
       "    <tr>\n",
       "      <th>3</th>\n",
       "      <td>Facebook</td>\n",
       "    </tr>\n",
       "    <tr>\n",
       "      <th>4</th>\n",
       "      <td>Flickr</td>\n",
       "    </tr>\n",
       "    <tr>\n",
       "      <th>5</th>\n",
       "      <td>Foursquare</td>\n",
       "    </tr>\n",
       "    <tr>\n",
       "      <th>6</th>\n",
       "      <td>iPhone App</td>\n",
       "    </tr>\n",
       "    <tr>\n",
       "      <th>7</th>\n",
       "      <td>iPhone app</td>\n",
       "    </tr>\n",
       "    <tr>\n",
       "      <th>8</th>\n",
       "      <td>Linked-In</td>\n",
       "    </tr>\n",
       "    <tr>\n",
       "      <th>9</th>\n",
       "      <td>Newsletter</td>\n",
       "    </tr>\n",
       "    <tr>\n",
       "      <th>10</th>\n",
       "      <td>Tumblr</td>\n",
       "    </tr>\n",
       "    <tr>\n",
       "      <th>11</th>\n",
       "      <td>WordPress</td>\n",
       "    </tr>\n",
       "    <tr>\n",
       "      <th>12</th>\n",
       "      <td>YouTube</td>\n",
       "    </tr>\n",
       "    <tr>\n",
       "      <th>13</th>\n",
       "      <td>TOTAL</td>\n",
       "    </tr>\n",
       "    <tr>\n",
       "      <th>14</th>\n",
       "      <td>Youtube</td>\n",
       "    </tr>\n",
       "    <tr>\n",
       "      <th>15</th>\n",
       "      <td>Foursquare (Badge Unlock)</td>\n",
       "    </tr>\n",
       "    <tr>\n",
       "      <th>16</th>\n",
       "      <td>Instagram</td>\n",
       "    </tr>\n",
       "    <tr>\n",
       "      <th>17</th>\n",
       "      <td>iPhone</td>\n",
       "    </tr>\n",
       "    <tr>\n",
       "      <th>18</th>\n",
       "      <td>Pinterest</td>\n",
       "    </tr>\n",
       "    <tr>\n",
       "      <th>19</th>\n",
       "      <td>Google+</td>\n",
       "    </tr>\n",
       "  </tbody>\n",
       "</table>\n",
       "</div>"
      ],
      "text/plain": [
       "                     Platform\n",
       "0                         SMS\n",
       "1                     Twitter\n",
       "2                     Android\n",
       "3                    Facebook\n",
       "4                      Flickr\n",
       "5                  Foursquare\n",
       "6                  iPhone App\n",
       "7                  iPhone app\n",
       "8                   Linked-In\n",
       "9                  Newsletter\n",
       "10                     Tumblr\n",
       "11                  WordPress\n",
       "12                    YouTube\n",
       "13                      TOTAL\n",
       "14                    Youtube\n",
       "15  Foursquare (Badge Unlock)\n",
       "16                  Instagram\n",
       "17                     iPhone\n",
       "18                  Pinterest\n",
       "19                    Google+"
      ]
     },
     "execution_count": 49,
     "metadata": {},
     "output_type": "execute_result"
    }
   ],
   "source": [
    "pd.read_sql('SELECT DISTINCT platform FROM usage', conn)"
   ]
  },
  {
   "cell_type": "markdown",
   "metadata": {},
   "source": [
    "We can see that there are duplicates due to inconsistant naming conventions.  Let's fix those so that the values are uniform, and can be grouped appropriately."
   ]
  },
  {
   "cell_type": "code",
   "execution_count": 50,
   "metadata": {
    "collapsed": true
   },
   "outputs": [],
   "source": [
    "df['Platform'] = df['Platform'].apply(lambda x :x.replace('Foursquare (Badge Unlock)', 'Foursquare'))\n",
    "df['Platform'] = df['Platform'].apply(lambda x :x.replace('Youtube', 'YouTube'))\n",
    "df['Platform'] = df['Platform'].apply(lambda x :x.replace('iPhone app', 'iPhone'))\n",
    "df['Platform'] = df['Platform'].apply(lambda x :x.replace('iPhone App', 'iPhone'))"
   ]
  },
  {
   "cell_type": "markdown",
   "metadata": {},
   "source": [
    "We can now reload the data and re-check the 'Platform' column to make sure our changes were successfully made."
   ]
  },
  {
   "cell_type": "code",
   "execution_count": 51,
   "metadata": {
    "collapsed": false
   },
   "outputs": [
    {
     "data": {
      "text/html": [
       "<div>\n",
       "<table border=\"1\" class=\"dataframe\">\n",
       "  <thead>\n",
       "    <tr style=\"text-align: right;\">\n",
       "      <th></th>\n",
       "      <th>Platform</th>\n",
       "    </tr>\n",
       "  </thead>\n",
       "  <tbody>\n",
       "    <tr>\n",
       "      <th>0</th>\n",
       "      <td>SMS</td>\n",
       "    </tr>\n",
       "    <tr>\n",
       "      <th>1</th>\n",
       "      <td>Twitter</td>\n",
       "    </tr>\n",
       "    <tr>\n",
       "      <th>2</th>\n",
       "      <td>Android</td>\n",
       "    </tr>\n",
       "    <tr>\n",
       "      <th>3</th>\n",
       "      <td>Facebook</td>\n",
       "    </tr>\n",
       "    <tr>\n",
       "      <th>4</th>\n",
       "      <td>Flickr</td>\n",
       "    </tr>\n",
       "    <tr>\n",
       "      <th>5</th>\n",
       "      <td>Foursquare</td>\n",
       "    </tr>\n",
       "    <tr>\n",
       "      <th>6</th>\n",
       "      <td>iPhone</td>\n",
       "    </tr>\n",
       "    <tr>\n",
       "      <th>7</th>\n",
       "      <td>Linked-In</td>\n",
       "    </tr>\n",
       "    <tr>\n",
       "      <th>8</th>\n",
       "      <td>Newsletter</td>\n",
       "    </tr>\n",
       "    <tr>\n",
       "      <th>9</th>\n",
       "      <td>Tumblr</td>\n",
       "    </tr>\n",
       "    <tr>\n",
       "      <th>10</th>\n",
       "      <td>WordPress</td>\n",
       "    </tr>\n",
       "    <tr>\n",
       "      <th>11</th>\n",
       "      <td>YouTube</td>\n",
       "    </tr>\n",
       "    <tr>\n",
       "      <th>12</th>\n",
       "      <td>TOTAL</td>\n",
       "    </tr>\n",
       "    <tr>\n",
       "      <th>13</th>\n",
       "      <td>Instagram</td>\n",
       "    </tr>\n",
       "    <tr>\n",
       "      <th>14</th>\n",
       "      <td>Pinterest</td>\n",
       "    </tr>\n",
       "    <tr>\n",
       "      <th>15</th>\n",
       "      <td>Google+</td>\n",
       "    </tr>\n",
       "  </tbody>\n",
       "</table>\n",
       "</div>"
      ],
      "text/plain": [
       "      Platform\n",
       "0          SMS\n",
       "1      Twitter\n",
       "2      Android\n",
       "3     Facebook\n",
       "4       Flickr\n",
       "5   Foursquare\n",
       "6       iPhone\n",
       "7    Linked-In\n",
       "8   Newsletter\n",
       "9       Tumblr\n",
       "10   WordPress\n",
       "11     YouTube\n",
       "12       TOTAL\n",
       "13   Instagram\n",
       "14   Pinterest\n",
       "15     Google+"
      ]
     },
     "execution_count": 51,
     "metadata": {},
     "output_type": "execute_result"
    }
   ],
   "source": [
    "df.to_sql('usage', conn, if_exists='replace')\n",
    "pd.read_sql('SELECT DISTINCT platform FROM usage', conn)"
   ]
  },
  {
   "cell_type": "markdown",
   "metadata": {},
   "source": [
    "Now that our data is cleaned up, we can see which platforms have the most user engagement."
   ]
  },
  {
   "cell_type": "code",
   "execution_count": 52,
   "metadata": {
    "collapsed": false
   },
   "outputs": [
    {
     "data": {
      "text/html": [
       "<div>\n",
       "<table border=\"1\" class=\"dataframe\">\n",
       "  <thead>\n",
       "    <tr style=\"text-align: right;\">\n",
       "      <th></th>\n",
       "      <th>Platform</th>\n",
       "      <th>SUM(Interactions)</th>\n",
       "    </tr>\n",
       "  </thead>\n",
       "  <tbody>\n",
       "    <tr>\n",
       "      <th>0</th>\n",
       "      <td>Newsletter</td>\n",
       "      <td>18067849</td>\n",
       "    </tr>\n",
       "    <tr>\n",
       "      <th>1</th>\n",
       "      <td>Twitter</td>\n",
       "      <td>8095134</td>\n",
       "    </tr>\n",
       "    <tr>\n",
       "      <th>2</th>\n",
       "      <td>Facebook</td>\n",
       "      <td>6870824</td>\n",
       "    </tr>\n",
       "    <tr>\n",
       "      <th>3</th>\n",
       "      <td>SMS</td>\n",
       "      <td>999040</td>\n",
       "    </tr>\n",
       "    <tr>\n",
       "      <th>4</th>\n",
       "      <td>iPhone</td>\n",
       "      <td>964634</td>\n",
       "    </tr>\n",
       "    <tr>\n",
       "      <th>5</th>\n",
       "      <td>Foursquare</td>\n",
       "      <td>602264</td>\n",
       "    </tr>\n",
       "    <tr>\n",
       "      <th>6</th>\n",
       "      <td>Tumblr</td>\n",
       "      <td>573950</td>\n",
       "    </tr>\n",
       "    <tr>\n",
       "      <th>7</th>\n",
       "      <td>Linked-In</td>\n",
       "      <td>461482</td>\n",
       "    </tr>\n",
       "    <tr>\n",
       "      <th>8</th>\n",
       "      <td>Flickr</td>\n",
       "      <td>157881</td>\n",
       "    </tr>\n",
       "    <tr>\n",
       "      <th>9</th>\n",
       "      <td>Instagram</td>\n",
       "      <td>134617</td>\n",
       "    </tr>\n",
       "  </tbody>\n",
       "</table>\n",
       "</div>"
      ],
      "text/plain": [
       "     Platform  SUM(Interactions)\n",
       "0  Newsletter           18067849\n",
       "1     Twitter            8095134\n",
       "2    Facebook            6870824\n",
       "3         SMS             999040\n",
       "4      iPhone             964634\n",
       "5  Foursquare             602264\n",
       "6      Tumblr             573950\n",
       "7   Linked-In             461482\n",
       "8      Flickr             157881\n",
       "9   Instagram             134617"
      ]
     },
     "execution_count": 52,
     "metadata": {},
     "output_type": "execute_result"
    }
   ],
   "source": [
    "pd.read_sql('SELECT Platform, SUM(Interactions) \\\n",
    "            FROM usage \\\n",
    "            WHERE Platform != \"TOTAL\" \\\n",
    "            GROUP BY platform \\\n",
    "            ORDER BY 2 DESC \\\n",
    "            LIMIT 10', conn)"
   ]
  },
  {
   "cell_type": "markdown",
   "metadata": {},
   "source": [
    "This looks good, but it might be more interesting to see how social media engagement in general compares to newsletter \n",
    "subscriptions, as opposed to seeing each social media plaform broken out individually. We can do this by classifying \n",
    "each platform using a SQL CASE statement."
   ]
  },
  {
   "cell_type": "code",
   "execution_count": 53,
   "metadata": {
    "collapsed": false
   },
   "outputs": [
    {
     "data": {
      "text/html": [
       "<div>\n",
       "<table border=\"1\" class=\"dataframe\">\n",
       "  <thead>\n",
       "    <tr style=\"text-align: right;\">\n",
       "      <th></th>\n",
       "      <th>Platform_Type</th>\n",
       "    </tr>\n",
       "  </thead>\n",
       "  <tbody>\n",
       "    <tr>\n",
       "      <th>0</th>\n",
       "      <td>Other</td>\n",
       "    </tr>\n",
       "    <tr>\n",
       "      <th>1</th>\n",
       "      <td>Other</td>\n",
       "    </tr>\n",
       "    <tr>\n",
       "      <th>2</th>\n",
       "      <td>Social Media</td>\n",
       "    </tr>\n",
       "    <tr>\n",
       "      <th>3</th>\n",
       "      <td>Social Media</td>\n",
       "    </tr>\n",
       "    <tr>\n",
       "      <th>4</th>\n",
       "      <td>Phone App</td>\n",
       "    </tr>\n",
       "    <tr>\n",
       "      <th>5</th>\n",
       "      <td>Phone App</td>\n",
       "    </tr>\n",
       "    <tr>\n",
       "      <th>6</th>\n",
       "      <td>Social Media</td>\n",
       "    </tr>\n",
       "    <tr>\n",
       "      <th>7</th>\n",
       "      <td>Social Media</td>\n",
       "    </tr>\n",
       "    <tr>\n",
       "      <th>8</th>\n",
       "      <td>Social Media</td>\n",
       "    </tr>\n",
       "    <tr>\n",
       "      <th>9</th>\n",
       "      <td>Social Media</td>\n",
       "    </tr>\n",
       "  </tbody>\n",
       "</table>\n",
       "</div>"
      ],
      "text/plain": [
       "  Platform_Type\n",
       "0         Other\n",
       "1         Other\n",
       "2  Social Media\n",
       "3  Social Media\n",
       "4     Phone App\n",
       "5     Phone App\n",
       "6  Social Media\n",
       "7  Social Media\n",
       "8  Social Media\n",
       "9  Social Media"
      ]
     },
     "execution_count": 53,
     "metadata": {},
     "output_type": "execute_result"
    }
   ],
   "source": [
    "pd.read_sql('SELECT \\\n",
    "            CASE \\\n",
    "              WHEN Platform = \"Twitter\" THEN \"Social Media\"\\\n",
    "              WHEN Platform = \"Facebook\" THEN \"Social Media\"\\\n",
    "              WHEN Platform = \"Flickr\" THEN \"Social Media\"\\\n",
    "              WHEN Platform = \"Tumblr\" THEN \"Social Media\"\\\n",
    "              WHEN Platform = \"Foursquare\" THEN \"Social Media\"\\\n",
    "              WHEN Platform = \"Instagram\" THEN \"Social Media\"\\\n",
    "              WHEN Platform = \"Pinterest\" THEN \"Social Media\"\\\n",
    "              WHEN Platform = \"Linked-In\" THEN \"Social Media\"\\\n",
    "              WHEN Platform = \"Google+\" THEN \"Social Media\"\\\n",
    "              WHEN Platform = \"Newsletter\" THEN \"Newsletter\"\\\n",
    "              WHEN Platform = \"Android\" THEN \"Phone App\"\\\n",
    "              WHEN Platform = \"iPhone\" THEN \"Phone App\"\\\n",
    "              WHEN Platform = \"YouTube\" THEN \"Video\"\\\n",
    "              ELSE \"Other\"\\\n",
    "            END AS Platform_Type \\\n",
    "            FROM usage \\\n",
    "            WHERE Platform != \"TOTAL\" \\\n",
    "            LIMIT 10', conn)"
   ]
  },
  {
   "cell_type": "markdown",
   "metadata": {},
   "source": [
    "We can then group by platform type and sum the number of user interactions per platform. This will be saved to a new dataframe so that we can plot the findings."
   ]
  },
  {
   "cell_type": "code",
   "execution_count": 54,
   "metadata": {
    "collapsed": false
   },
   "outputs": [],
   "source": [
    "df2 = pd.read_sql('SELECT Platform_Type, SUM(Interactions) as Interactions \\\n",
    "             FROM \\\n",
    "              (SELECT \\\n",
    "               CASE \\\n",
    "                WHEN Platform = \"Twitter\" THEN \"Social Media\"\\\n",
    "                WHEN Platform = \"Facebook\" THEN \"Social Media\"\\\n",
    "                WHEN Platform = \"Flickr\" THEN \"Social Media\"\\\n",
    "                WHEN Platform = \"Tumblr\" THEN \"Social Media\"\\\n",
    "                WHEN Platform = \"Foursquare\" THEN \"Social Media\"\\\n",
    "                WHEN Platform = \"Instagram\" THEN \"Social Media\"\\\n",
    "                WHEN Platform = \"Pinterest\" THEN \"Social Media\"\\\n",
    "                WHEN Platform = \"Linked-In\" THEN \"Social Media\"\\\n",
    "                WHEN Platform = \"Google+\" THEN \"Social Media\"\\\n",
    "                WHEN Platform = \"Newsletter\" THEN \"Newsletter\"\\\n",
    "                WHEN Platform = \"Android\" THEN \"Phone App\"\\\n",
    "                WHEN Platform = \"iPhone\" THEN \"Phone App\"\\\n",
    "                WHEN Platform = \"YouTube\" THEN \"Video\"\\\n",
    "                ELSE \"Other\"\\\n",
    "               END AS Platform_Type, Interactions \\\n",
    "              FROM usage \\\n",
    "              WHERE Platform != \"TOTAL\") \\\n",
    "            GROUP BY Platform_Type \\\n",
    "            ORDER BY Interactions DESC', conn)"
   ]
  },
  {
   "cell_type": "markdown",
   "metadata": {},
   "source": [
    "First, let's take a quick look at how the various platform types measure up. Then we will plot a bar graph with the results."
   ]
  },
  {
   "cell_type": "code",
   "execution_count": 55,
   "metadata": {
    "collapsed": false
   },
   "outputs": [
    {
     "name": "stdout",
     "output_type": "stream",
     "text": [
      "  Platform_Type  Interactions\n",
      "0    Newsletter      18067849\n",
      "1  Social Media      16896751\n",
      "2         Other       1093835\n",
      "3     Phone App        990962\n",
      "4         Video        109545\n"
     ]
    }
   ],
   "source": [
    "print(df2.head())"
   ]
  },
  {
   "cell_type": "code",
   "execution_count": 58,
   "metadata": {
    "collapsed": false
   },
   "outputs": [
    {
     "data": {
      "image/png": "[encoded data removed]",
      "text/plain": [
       "<matplotlib.figure.Figure at 0x10c9c02d0>"
      ]
     },
     "metadata": {},
     "output_type": "display_data"
    }
   ],
   "source": [
    "sns.set_palette('pastel')\n",
    "sns.barplot(data=df2, x='Platform_Type', y='Interactions', estimator=sum)\n",
    "ax = plt.subplot()\n",
    "plt.xlabel('Platform Type')\n",
    "plt.ylabel('Total Interactions (mm)')\n",
    "plt.title('User Interactions per Platform');"
   ]
  },
  {
   "cell_type": "markdown",
   "metadata": {},
   "source": [
    "From this analysis, it is clear that in 2011 and 2012, people were not engaging with NYC government agencies via video. Instead, they clearly preferred newsletter subscriptions and social media. If the data is evenly spread out over 2011 and 2012, we can examine it to see how engagement changed over those two years."
   ]
  },
  {
   "cell_type": "code",
   "execution_count": 57,
   "metadata": {
    "collapsed": false
   },
   "outputs": [
    {
     "data": {
      "text/html": [
       "<div>\n",
       "<table border=\"1\" class=\"dataframe\">\n",
       "  <thead>\n",
       "    <tr style=\"text-align: right;\">\n",
       "      <th></th>\n",
       "      <th>Date_Sampled</th>\n",
       "    </tr>\n",
       "  </thead>\n",
       "  <tbody>\n",
       "    <tr>\n",
       "      <th>0</th>\n",
       "      <td>2012-02-17 00:00:00</td>\n",
       "    </tr>\n",
       "    <tr>\n",
       "      <th>1</th>\n",
       "      <td>2012-11-09 00:00:00</td>\n",
       "    </tr>\n",
       "    <tr>\n",
       "      <th>2</th>\n",
       "      <td>2012-06-13 00:00:00</td>\n",
       "    </tr>\n",
       "    <tr>\n",
       "      <th>3</th>\n",
       "      <td>2012-08-02 00:00:00</td>\n",
       "    </tr>\n",
       "    <tr>\n",
       "      <th>4</th>\n",
       "      <td>2011-08-08 00:00:00</td>\n",
       "    </tr>\n",
       "    <tr>\n",
       "      <th>5</th>\n",
       "      <td>2011-09-22 00:00:00</td>\n",
       "    </tr>\n",
       "    <tr>\n",
       "      <th>6</th>\n",
       "      <td>2011-11-17 00:00:00</td>\n",
       "    </tr>\n",
       "    <tr>\n",
       "      <th>7</th>\n",
       "      <td>2011-10-04 00:00:00</td>\n",
       "    </tr>\n",
       "    <tr>\n",
       "      <th>8</th>\n",
       "      <td>2011-10-27 00:00:00</td>\n",
       "    </tr>\n",
       "    <tr>\n",
       "      <th>9</th>\n",
       "      <td>2012-12-12 00:00:00</td>\n",
       "    </tr>\n",
       "    <tr>\n",
       "      <th>10</th>\n",
       "      <td>2012-01-20 00:00:00</td>\n",
       "    </tr>\n",
       "    <tr>\n",
       "      <th>11</th>\n",
       "      <td>2011-12-30 00:00:00</td>\n",
       "    </tr>\n",
       "    <tr>\n",
       "      <th>12</th>\n",
       "      <td>2012-10-24 00:00:00</td>\n",
       "    </tr>\n",
       "    <tr>\n",
       "      <th>13</th>\n",
       "      <td>2012-03-14 00:00:00</td>\n",
       "    </tr>\n",
       "    <tr>\n",
       "      <th>14</th>\n",
       "      <td>2012-04-09 00:00:00</td>\n",
       "    </tr>\n",
       "    <tr>\n",
       "      <th>15</th>\n",
       "      <td>2012-11-02 00:00:00</td>\n",
       "    </tr>\n",
       "    <tr>\n",
       "      <th>16</th>\n",
       "      <td>2012-07-05 00:00:00</td>\n",
       "    </tr>\n",
       "    <tr>\n",
       "      <th>17</th>\n",
       "      <td>2012-04-30 00:00:00</td>\n",
       "    </tr>\n",
       "    <tr>\n",
       "      <th>18</th>\n",
       "      <td>2012-05-09 00:00:00</td>\n",
       "    </tr>\n",
       "    <tr>\n",
       "      <th>19</th>\n",
       "      <td>2012-09-21 00:00:00</td>\n",
       "    </tr>\n",
       "  </tbody>\n",
       "</table>\n",
       "</div>"
      ],
      "text/plain": [
       "           Date_Sampled\n",
       "0   2012-02-17 00:00:00\n",
       "1   2012-11-09 00:00:00\n",
       "2   2012-06-13 00:00:00\n",
       "3   2012-08-02 00:00:00\n",
       "4   2011-08-08 00:00:00\n",
       "5   2011-09-22 00:00:00\n",
       "6   2011-11-17 00:00:00\n",
       "7   2011-10-04 00:00:00\n",
       "8   2011-10-27 00:00:00\n",
       "9   2012-12-12 00:00:00\n",
       "10  2012-01-20 00:00:00\n",
       "11  2011-12-30 00:00:00\n",
       "12  2012-10-24 00:00:00\n",
       "13  2012-03-14 00:00:00\n",
       "14  2012-04-09 00:00:00\n",
       "15  2012-11-02 00:00:00\n",
       "16  2012-07-05 00:00:00\n",
       "17  2012-04-30 00:00:00\n",
       "18  2012-05-09 00:00:00\n",
       "19  2012-09-21 00:00:00"
      ]
     },
     "execution_count": 57,
     "metadata": {},
     "output_type": "execute_result"
    }
   ],
   "source": [
    "pd.read_sql('SELECT DISTINCT Date_Sampled FROM usage', conn)"
   ]
  },
  {
   "cell_type": "markdown",
   "metadata": {},
   "source": [
    "Unfortunately, the data is heavily skewed to 2012, and so a year-over-year analysis is not possible.  If additional (and ideally, more recent) data were available, we could break down the user interactions by year and look for trends. For example, did video engagement rise after 2012? Are newsletters as popular today as they were seven years ago? That analysis could then be used to guide social media strategy and help determine where to focus future efforts."
   ]
  }
 ],
 "metadata": {
  "kernelspec": {
   "display_name": "Python 2",
   "language": "python",
   "name": "python2"
  },
  "language_info": {
   "codemirror_mode": {
    "name": "ipython",
    "version": 2
   },
   "file_extension": ".py",
   "mimetype": "text/x-python",
   "name": "python",
   "nbconvert_exporter": "python",
   "pygments_lexer": "ipython2",
   "version": "2.7.10"
  }
 },
 "nbformat": 4,
 "nbformat_minor": 0
}
